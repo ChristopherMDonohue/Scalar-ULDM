{
 "cells": [
  {
   "cell_type": "code",
   "execution_count": 1,
   "metadata": {},
   "outputs": [],
   "source": [
    "import numpy as np\n",
    "import matplotlib.pyplot as plt\n",
    "import matplotlib.ticker as mtick"
   ]
  },
  {
   "cell_type": "code",
   "execution_count": 2,
   "metadata": {},
   "outputs": [],
   "source": [
    "def L_e(r_d,nu,Q,T,B_n):\n",
    "    l=35*(1/r_d)**2*(1.0E6/nu)*(T)*(1.0E-16/B_n)**2\n",
    "    return l"
   ]
  },
  {
   "cell_type": "code",
   "execution_count": 3,
   "metadata": {},
   "outputs": [],
   "source": [
    "def N_d(L_c,L_m,L_e,r_d,a): \n",
    "    ksi=4*np.pi*1.0E-7*r_d*(np.log(8*r_d/a)-2)*1.0E6\n",
    "    num1=np.sqrt(1+L_e/ksi)-1\n",
    "    num2=N_l*L_m+L_c\n",
    "    denom=L_e/ksi-(np.sqrt(1+L_e/ksi)-1)\n",
    "    frac=num1*num2/denom\n",
    "    n=np.sqrt(frac/ksi)\n",
    "    return n"
   ]
  },
  {
   "cell_type": "code",
   "execution_count": 4,
   "metadata": {},
   "outputs": [],
   "source": [
    "def I_T(nu,L,Q,T,Delta_nu):\n",
    "    i=2.96E-13*np.sqrt((1.0E6/nu)*(1/L)*(Q/1.0E4)*T*Delta_nu)\n",
    "    return i"
   ]
  },
  {
   "cell_type": "code",
   "execution_count": 5,
   "metadata": {},
   "outputs": [],
   "source": [
    "def I_B(N_d,r_d,B_n,Delta_nu):\n",
    "    return 5.03E-14*(1/N_d)*r_d*(B_n/(1.0E-16))*np.sqrt(Delta_nu)"
   ]
  },
  {
   "cell_type": "code",
   "execution_count": 6,
   "metadata": {},
   "outputs": [],
   "source": [
    "def I(Q,L,N_l,g,E_o,rho,r_e,d,l):\n",
    "    return 2.34E-16*(Q/1.0E4)*(1/L)*N_l*(g/1.0E-12)*(E_o/10)*np.sqrt(rho)*r_e**2*d*np.log(1+l/r_e)"
   ]
  },
  {
   "cell_type": "code",
   "execution_count": 7,
   "metadata": {},
   "outputs": [],
   "source": [
    "#function for graphing g\n",
    "def g(nu,L,Q,T,Delta_nu,rho,E_o,d,r_e,N_l,l,N_d,r_d,B_n):\n",
    "    deltaI_T=I_T(nu,L,Q,T,Delta_nu)\n",
    "    deltaI_B=I_B(N_d,r_d,B_n,Delta_nu)\n",
    "    denom=(2.34E-16)*(Q/1.0E4)*(1/L)*N_l*(E_o/10)*np.sqrt(rho)*d*(r_e**2)*np.log(1+l/r_e)\n",
    "    cc=5*np.sqrt((deltaI_T)**2+(deltaI_B)**2)/denom\n",
    "    return cc*1.0E-12"
   ]
  },
  {
   "cell_type": "code",
   "execution_count": 8,
   "metadata": {},
   "outputs": [],
   "source": [
    "# limit on g based on magnetometer\n",
    "def g_b(nu,Q,N_d,N_l,L,r_d,E_o,rho,r_e,d,l):\n",
    "    B_d=2.8E-17*(nu/1.0E6)**(.25)\n",
    "    denom=1.47E-20*(Q/1.0E4)*N_d*N_l*(1/L)*(1/r_d)*(E_o/10)*np.sqrt(rho)*r_e**2*d*np.log(1+l/r_e)\n",
    "    return (B_d/denom)*1.0E-12"
   ]
  },
  {
   "cell_type": "code",
   "execution_count": 11,
   "metadata": {},
   "outputs": [],
   "source": [
    "m_phi=np.array([2.0678338311700820E-007,1.0339169155850410E-007,5.1695845779252049E-008,2.5847922889626025E-008,1.2923961444813012E-008,6.4619807224065062E-009,3.2309903612032531E-009 ,1.6154951806016265E-009,8.0774759030081327E-010,4.0387379515040664E-010,2.0193689757520332E-010,1.0096844878760166E-010,5.0484224393800829E-011,2.5242112196900415E-011,1.2621056098450207E-011])\n",
    "m_phi2=np.array([4.1356676623401639E-007,2.0678338311700820E-007,1.0339169155850410E-007,5.1695845779252049E-008,2.5847922889626025E-008, 1.2923961444813012E-008,6.4619807224065062E-009,3.2309903612032531E-009,1.6154951806016265E-009,8.0774759030081327E-010,4.0387379515040664E-010,2.0193689757520332E-010,1.0096844878760166E-010,5.0484224393800829E-011,2.5242112196900415E-011,1.2621056098450207E-011])"
   ]
  },
  {
   "cell_type": "code",
   "execution_count": 91,
   "metadata": {},
   "outputs": [],
   "source": [
    "r_d=1 #in centimeters\n",
    "# nu=m_phi/(4.1356676623401639E-15)\n",
    "nu=np.linspace(2417.9892623,1.0E7,100)\n",
    "Q=1.0E4\n",
    "T=.5\n",
    "B_n=1.0E-16\n",
    "L_c=.5\n",
    "L_m=2.5\n",
    "a=7.4E-004\n",
    "Delta_nu=4 #in mHz\n",
    "rho=.3 #assumption A\n",
    "\n",
    "\n",
    "E_o=75\n",
    "d=10\n",
    "r_e=30\n",
    "N_l=1\n",
    "l=15\n",
    "\n",
    "L_e_a=L_e(r_d,nu,Q,T,B_n)\n",
    "N_d_a=N_d(L_c,L_m,L_e_a,.01*r_d,a)\n",
    "# N_d_a=np.round(N_d_a)\n",
    "# N_d_a[len(N_d_a)-1]=1\n",
    "N_d_a=1\n",
    "\n",
    "\n",
    "c_d=np.log(8*.01*r_d/a)-2\n",
    "L_d=4*np.pi*1.0E-7*.01*r_d*(N_d_a**2)*c_d*1.0E6\n",
    "L=N_d_a*L_m+L_d+L_c\n",
    "L=3.0337172276943805\n",
    "\n",
    "\n",
    "\n",
    "gex=4.3749592599999999E-013\n",
    "\n",
    "g_s=g(nu,L,Q,T,Delta_nu,rho,E_o,d,r_e,N_l,l,N_d_a,r_d,B_n)\n",
    "\n",
    "    \n",
    "mag_lim=g_b(nu,Q,N_d_a,N_l,L,r_d,E_o,rho,r_e,d,l)"
   ]
  },
  {
   "cell_type": "code",
   "execution_count": 92,
   "metadata": {},
   "outputs": [
    {
     "data": {
      "image/png": "[encoded data removed]",
      "text/plain": [
       "<Figure size 432x288 with 2 Axes>"
      ]
     },
     "metadata": {
      "needs_background": "light"
     },
     "output_type": "display_data"
    }
   ],
   "source": [
    "fig = plt.figure()\n",
    "ax1 = fig.add_subplot(111)\n",
    "ax2 = ax1.twiny()\n",
    "\n",
    "OSQAR=np.ones(len(nu))*3.2E-8\n",
    "CAST=np.ones(len(nu))*.66E-10\n",
    "SN=np.ones(len(nu))*5.3E-12\n",
    "some_up_thing=np.ones(len(nu))*5.0E-8\n",
    "m_a=(4.135667696E-15)*nu\n",
    "\n",
    "ax1.loglog(m_a, g_s, 'k')\n",
    "ax1.loglog(m_a,OSQAR,'k')\n",
    "ax1.loglog(m_a,mag_lim,'--')\n",
    "\n",
    "# Plot Astronomical Limits\n",
    "# ax1.loglog(m_a,2*CAST,color='purple',linestyle='-.')\n",
    "# ax1.loglog(m_a,2*SN,color='green',linestyle='-.')\n",
    "# ax1.loglog(m_a,CAST,color='darkblue',linestyle='-.')\n",
    "\n",
    "\n",
    "\n",
    "ax1.fill_between(m_a,g_s,OSQAR,color='orange')\n",
    "ax1.fill_between(m_a,OSQAR,some_up_thing,color='white')\n",
    "# ax1.fill_between(m_a,g_s,mag_lim,color='white')\n",
    "\n",
    "ax1.set_xlabel('$m_\\phi$ (eV)',size=13)\n",
    "ax1.set_ylabel('$g_\\phi$ ($GeV^{-1}$)',size=13)\n",
    "\n",
    "\n",
    "ax2.loglog(nu, g_s,'k') # Create a dummy plot\n",
    "ax2.set_xlabel('$\\\\nu$ (Hz)',size=13)\n",
    "\n",
    "\n",
    "ax1.text(0.5, 0.98, 'Ballou et al. Limit',\n",
    "        verticalalignment='top', horizontalalignment='center',\n",
    "        transform=ax1.transAxes,\n",
    "        color='black', fontsize=11)\n",
    "\n",
    "# Label Astronomical Limits\n",
    "# ax1.text(0.077, 0.521, 'CAST',\n",
    "#         verticalalignment='center', horizontalalignment='center',\n",
    "#         transform=ax1.transAxes,\n",
    "#         color='black', fontsize=8)\n",
    "# ax1.text(0.093, .475, 'HB star',\n",
    "#         verticalalignment='center', horizontalalignment='center',\n",
    "#         transform=ax1.transAxes,\n",
    "#         color='black', fontsize=8)\n",
    "# ax1.text(0.11, 0.35, 'SN 1987A',\n",
    "#         verticalalignment='center', horizontalalignment='center',\n",
    "#         transform=ax1.transAxes,\n",
    "#         color='black', fontsize=8)\n",
    "\n",
    "\n",
    "plt.show()"
   ]
  },
  {
   "cell_type": "code",
   "execution_count": 93,
   "metadata": {},
   "outputs": [],
   "source": [
    "def B_d(Q,N_d,N_l,L,r_d,g_num,E_o,rho,r_e,d,l):\n",
    "    return 2.08E-20*(Q/1.0E4)*N_d*N_l*(1/L)*(1/r_d)*(g_num/1.0E-12)*(E_o/10)*np.sqrt(rho)*r_e**2*d*np.log(1+l/r_e)"
   ]
  },
  {
   "cell_type": "code",
   "execution_count": 94,
   "metadata": {},
   "outputs": [
    {
     "ename": "NameError",
     "evalue": "name 'sig_to_noise' is not defined",
     "output_type": "error",
     "traceback": [
      "\u001b[0;31m---------------------------------------------------------------------------\u001b[0m",
      "\u001b[0;31mNameError\u001b[0m                                 Traceback (most recent call last)",
      "\u001b[0;32m<ipython-input-94-93913d34aa84>\u001b[0m in \u001b[0;36m<module>\u001b[0;34m\u001b[0m\n\u001b[1;32m      3\u001b[0m \u001b[0mIsig\u001b[0m\u001b[0;34m=\u001b[0m\u001b[0mI\u001b[0m\u001b[0;34m(\u001b[0m\u001b[0mQ\u001b[0m\u001b[0;34m,\u001b[0m\u001b[0mL\u001b[0m\u001b[0;34m,\u001b[0m\u001b[0mN_l\u001b[0m\u001b[0;34m,\u001b[0m\u001b[0mgex\u001b[0m\u001b[0;34m,\u001b[0m\u001b[0mE_o\u001b[0m\u001b[0;34m,\u001b[0m\u001b[0mrho\u001b[0m\u001b[0;34m,\u001b[0m\u001b[0mr_e\u001b[0m\u001b[0;34m,\u001b[0m\u001b[0md\u001b[0m\u001b[0;34m,\u001b[0m\u001b[0ml\u001b[0m\u001b[0;34m)\u001b[0m\u001b[0;34m\u001b[0m\u001b[0;34m\u001b[0m\u001b[0m\n\u001b[1;32m      4\u001b[0m \u001b[0mBBB\u001b[0m\u001b[0;34m=\u001b[0m\u001b[0mB_d\u001b[0m\u001b[0;34m(\u001b[0m\u001b[0mQ\u001b[0m\u001b[0;34m,\u001b[0m\u001b[0mN_d_a\u001b[0m\u001b[0;34m,\u001b[0m\u001b[0mN_l\u001b[0m\u001b[0;34m,\u001b[0m\u001b[0mL\u001b[0m\u001b[0;34m,\u001b[0m\u001b[0mr_d\u001b[0m\u001b[0;34m,\u001b[0m\u001b[0mg_s\u001b[0m\u001b[0;34m,\u001b[0m\u001b[0mE_o\u001b[0m\u001b[0;34m,\u001b[0m\u001b[0mrho\u001b[0m\u001b[0;34m,\u001b[0m\u001b[0mr_e\u001b[0m\u001b[0;34m,\u001b[0m\u001b[0md\u001b[0m\u001b[0;34m,\u001b[0m\u001b[0ml\u001b[0m\u001b[0;34m)\u001b[0m\u001b[0;34m\u001b[0m\u001b[0;34m\u001b[0m\u001b[0m\n\u001b[0;32m----> 5\u001b[0;31m \u001b[0msigton\u001b[0m\u001b[0;34m=\u001b[0m\u001b[0msig_to_noise\u001b[0m\u001b[0;34m(\u001b[0m\u001b[0mnu\u001b[0m\u001b[0;34m,\u001b[0m\u001b[0mL\u001b[0m\u001b[0;34m,\u001b[0m\u001b[0mQ\u001b[0m\u001b[0;34m,\u001b[0m\u001b[0mT\u001b[0m\u001b[0;34m,\u001b[0m\u001b[0mDelta_nu\u001b[0m\u001b[0;34m,\u001b[0m\u001b[0mN_d_a\u001b[0m\u001b[0;34m,\u001b[0m\u001b[0mr_d\u001b[0m\u001b[0;34m,\u001b[0m\u001b[0mB_n\u001b[0m\u001b[0;34m,\u001b[0m\u001b[0mN_l\u001b[0m\u001b[0;34m,\u001b[0m\u001b[0mg_s\u001b[0m\u001b[0;34m,\u001b[0m\u001b[0mE_o\u001b[0m\u001b[0;34m,\u001b[0m\u001b[0mrho\u001b[0m\u001b[0;34m,\u001b[0m\u001b[0mr_e\u001b[0m\u001b[0;34m,\u001b[0m\u001b[0md\u001b[0m\u001b[0;34m,\u001b[0m\u001b[0ml\u001b[0m\u001b[0;34m)\u001b[0m\u001b[0;34m\u001b[0m\u001b[0;34m\u001b[0m\u001b[0m\n\u001b[0m",
      "\u001b[0;31mNameError\u001b[0m: name 'sig_to_noise' is not defined"
     ]
    }
   ],
   "source": [
    "deltaIT=I_T(nu,L,Q,T,Delta_nu)\n",
    "deltaIB=I_B(N_d_a,r_d,B_n,Delta_nu)\n",
    "Isig=I(Q,L,N_l,gex,E_o,rho,r_e,d,l)\n",
    "BBB=B_d(Q,N_d_a,N_l,L,r_d,g_s,E_o,rho,r_e,d,l)\n",
    "# sigton=sig_to_noise(nu,L,Q,T,Delta_nu,N_d_a,r_d,B_n,N_l,g_s,E_o,rho,r_e,d,l)"
   ]
  },
  {
   "cell_type": "code",
   "execution_count": null,
   "metadata": {},
   "outputs": [],
   "source": []
  }
 ],
 "metadata": {
  "kernelspec": {
   "display_name": "Python 3",
   "language": "python",
   "name": "python3"
  },
  "language_info": {
   "codemirror_mode": {
    "name": "ipython",
    "version": 3
   },
   "file_extension": ".py",
   "mimetype": "text/x-python",
   "name": "python",
   "nbconvert_exporter": "python",
   "pygments_lexer": "ipython3",
   "version": "3.8.3"
  }
 },
 "nbformat": 4,
 "nbformat_minor": 4
}
