{
 "cells": [
  {
   "cell_type": "code",
   "execution_count": 16,
   "metadata": {},
   "outputs": [],
   "source": [
    "import numpy as np\n",
    "import matplotlib.pyplot as plt\n",
    "import matplotlib.ticker as mtick"
   ]
  },
  {
   "cell_type": "code",
   "execution_count": 2,
   "metadata": {},
   "outputs": [],
   "source": [
    "def L_e(r_d,nu,Q,T,B_n):\n",
    "    l=35*(1/r_d)**2*(1.0E6/nu)*(T)*(1.0E-16/B_n)**2\n",
    "    return l"
   ]
  },
  {
   "cell_type": "code",
   "execution_count": 3,
   "metadata": {},
   "outputs": [],
   "source": [
    "def N_d(L_c,L_m,L_e,r_d,a): \n",
    "    c_d=np.log(8*r_d/a)-2\n",
    "    q=(4*np.pi*1.0E-7)*c_d*r_d\n",
    "    b_d=np.sqrt(1+(L_e*1.0E-6)/(q))-1\n",
    "    f_1=1-q*b_d/(L_e*1.0E-6)\n",
    "    f_2=(L_c+L_m)/L_e\n",
    "    n=np.sqrt(f_2*(b_d/f_1))\n",
    "    return n"
   ]
  },
  {
   "cell_type": "code",
   "execution_count": 4,
   "metadata": {},
   "outputs": [],
   "source": [
    "def I_T(nu,L,Q,T,Delta_nu):\n",
    "    i=2.96E-13*np.sqrt((1.0E6/nu)*(1/L)*(Q/1.0E4)*T*Delta_nu)\n",
    "    return i"
   ]
  },
  {
   "cell_type": "code",
   "execution_count": 5,
   "metadata": {},
   "outputs": [],
   "source": [
    "def I_B(N_d,r_d,B_n,Delta_nu):\n",
    "    return 5.03E-14*(1/N_d)*r_d*(B_n/(1.0E-16))*np.sqrt(Delta_nu)"
   ]
  },
  {
   "cell_type": "code",
   "execution_count": 6,
   "metadata": {},
   "outputs": [],
   "source": [
    "#function for graphing g\n",
    "def g(nu,L,Q,T,Delta_nu,rho,E_o,d,r_e,N_l,l,N_d,r_d,B_n):\n",
    "    deltaI_T=I_T(nu,L,Q,T,Delta_nu)\n",
    "    deltaI_B=I_B(N_d,r_d,B_n,Delta_nu)\n",
    "    denom=(2.34E-16)*(Q/1.0E4)*(1/L)*N_l*(E_o/10)*np.sqrt(rho)*d*(r_e**2)*np.log(1+l/r_e)\n",
    "    cc=5*np.sqrt((deltaI_T)**2+(deltaI_B)**2)/denom\n",
    "    return cc*1.0E-12"
   ]
  },
  {
   "cell_type": "code",
   "execution_count": 7,
   "metadata": {},
   "outputs": [],
   "source": [
    "# limit on g based on magnetometer\n",
    "def g_b(nu,Q,N_d,N_l,L,r_d,E_o,rho,r_e,d,l):\n",
    "    B_d=2.8E-17*(nu/1.0E6)**(.25)\n",
    "    denom=1.47E-20*(Q/1.0E4)*N_d*N_l*(1/L)*(1/r_d)*(E_o/10)*np.sqrt(rho)*r_e**2*d*np.log(1+l/r_e)\n",
    "    return (B_d/denom)*1.0E-12"
   ]
  },
  {
   "cell_type": "code",
   "execution_count": 8,
   "metadata": {},
   "outputs": [],
   "source": [
    "r_d=1 #in centimeters\n",
    "nu=np.linspace(2.4E3,7.9E7,100)\n",
    "Q=1.0E4\n",
    "T=.5\n",
    "B_n=1.0E-16\n",
    "L_c=.5\n",
    "L_m=2.5\n",
    "a=7.436E-4\n",
    "Delta_nu=1 #in mHz\n",
    "rho=.3 #assumption A\n",
    "\n",
    "\n",
    "E_o=75\n",
    "d=10\n",
    "r_e=30\n",
    "N_l=10\n",
    "l=15\n",
    "\n",
    "L_e_a=L_e(r_d,nu,Q,T,B_n)\n",
    "N_d_a=N_d(L_c,L_m,L_e_a,.01*r_d,a)\n",
    "\n",
    "c_d=np.log(8*.01*r_d/a)-2\n",
    "L_d=4*np.pi*1.0E-7*.01*r_d*(N_d_a**2)*c_d*1.0E6\n",
    "L=L_m+L_d+L_c\n",
    "\n",
    "g_s=g(nu,L,Q,T,Delta_nu,rho,E_o,d,r_e,N_l,l,N_d_a,r_d,B_n)\n",
    "\n",
    "mag_lim=g_b(nu,Q,N_d_a,N_l,L,r_d,E_o,rho,r_e,d,l)"
   ]
  },
  {
   "cell_type": "code",
   "execution_count": 9,
   "metadata": {},
   "outputs": [],
   "source": [
    "rho_o=1\n",
    "g_s2=g(nu,L,Q,T,Delta_nu,rho_o,E_o,d,r_e,N_l,l,N_d_a,r_d,B_n)"
   ]
  },
  {
   "cell_type": "code",
   "execution_count": 15,
   "metadata": {},
   "outputs": [
    {
     "data": {
      "image/png": "[encoded data removed]",
      "text/plain": [
       "<Figure size 432x288 with 2 Axes>"
      ]
     },
     "metadata": {
      "needs_background": "light"
     },
     "output_type": "display_data"
    }
   ],
   "source": [
    "fig = plt.figure()\n",
    "ax1 = fig.add_subplot(111)\n",
    "ax2 = ax1.twiny()\n",
    "\n",
    "OSQAR=np.ones(len(nu))*3.2E-8\n",
    "some_up_thing=np.ones(len(nu))*5.0E-8\n",
    "m_a=(4.135667696E-15)*nu\n",
    "\n",
    "ax1.loglog(m_a, g_s, 'k')\n",
    "ax1.loglog(m_a,OSQAR,'k')\n",
    "ax1.loglog(m_a,mag_lim,'--')\n",
    "# ax1.loglog(m_a,g_s2)\n",
    "\n",
    "\n",
    "ax1.fill_between(m_a,g_s,OSQAR,color='orange')\n",
    "ax1.fill_between(m_a,OSQAR,some_up_thing,color='white')\n",
    "\n",
    "\n",
    "ax1.set_xlabel('$m_\\phi$ (eV)',size=13)\n",
    "ax1.set_ylabel('$g_\\phi$ ($GeV^{-1}$)',size=13)\n",
    "\n",
    "\n",
    "ax2.loglog(nu, g_s,'k') # Create a dummy plot\n",
    "ax2.set_xlabel('$\\\\nu$ (Hz)',size=13)\n",
    "\n",
    "\n",
    "ax1.text(0.5, 0.98, 'Ballou et al. Limit',\n",
    "        verticalalignment='top', horizontalalignment='center',\n",
    "        transform=ax1.transAxes,\n",
    "        color='black', fontsize=11)\n",
    "# ax1.set_title('Scalar Dark Matter Sensitivity')\n",
    "\n",
    "plt.show()"
   ]
  },
  {
   "cell_type": "code",
   "execution_count": 113,
   "metadata": {},
   "outputs": [],
   "source": [
    "deltaI_T=I_T(nu,L,Q,T,Delta_nu)"
   ]
  },
  {
   "cell_type": "code",
   "execution_count": 114,
   "metadata": {},
   "outputs": [
    {
     "data": {
      "text/plain": [
       "array([2.45949232e-12, 1.28403566e-13, 8.91115673e-14, 7.17361324e-14,\n",
       "       6.14035707e-14, 5.43700931e-14, 4.91912114e-14, 4.51760848e-14,\n",
       "       4.19473619e-14, 3.92792375e-14, 3.70272536e-14, 3.50941414e-14,\n",
       "       3.34116979e-14, 3.19305018e-14, 3.06137514e-14, 2.94334056e-14,\n",
       "       2.83676753e-14, 2.73993395e-14, 2.65145852e-14, 2.57021867e-14,\n",
       "       2.49529155e-14, 2.42591054e-14, 2.36143292e-14, 2.30131524e-14,\n",
       "       2.24509449e-14, 2.19237341e-14, 2.14280903e-14, 2.09610342e-14,\n",
       "       2.05199644e-14, 2.01025978e-14, 1.97069212e-14, 1.93311518e-14,\n",
       "       1.89737044e-14, 1.86331643e-14, 1.83082643e-14, 1.79978654e-14,\n",
       "       1.77009411e-14, 1.74165631e-14, 1.71438897e-14, 1.68821559e-14,\n",
       "       1.66306642e-14, 1.63887779e-14, 1.61559135e-14, 1.59315360e-14,\n",
       "       1.57151534e-14, 1.55063123e-14, 1.53045946e-14, 1.51096134e-14,\n",
       "       1.49210106e-14, 1.47384540e-14, 1.45616347e-14, 1.43902657e-14,\n",
       "       1.42240792e-14, 1.40628256e-14, 1.39062714e-14, 1.37541985e-14,\n",
       "       1.36064023e-14, 1.34626912e-14, 1.33228851e-14, 1.31868148e-14,\n",
       "       1.30543212e-14, 1.29252544e-14, 1.27994730e-14, 1.26768436e-14,\n",
       "       1.25572402e-14, 1.24405438e-14, 1.23266416e-14, 1.22154270e-14,\n",
       "       1.21067987e-14, 1.20006608e-14, 1.18969222e-14, 1.17954964e-14,\n",
       "       1.16963011e-14, 1.15992580e-14, 1.15042927e-14, 1.14113341e-14,\n",
       "       1.13203146e-14, 1.12311697e-14, 1.11438377e-14, 1.10582598e-14,\n",
       "       1.09743798e-14, 1.08921440e-14, 1.08115008e-14, 1.07324011e-14,\n",
       "       1.06547978e-14, 1.05786456e-14, 1.05039013e-14, 1.04305233e-14,\n",
       "       1.03584718e-14, 1.02877084e-14, 1.02181966e-14, 1.01499008e-14,\n",
       "       1.00827872e-14, 1.00168232e-14, 9.95197723e-15, 9.88821913e-15,\n",
       "       9.82551977e-15, 9.76385109e-15, 9.70318604e-15, 9.64349858e-15])"
      ]
     },
     "execution_count": 114,
     "metadata": {},
     "output_type": "execute_result"
    }
   ],
   "source": [
    "deltaI_T"
   ]
  },
  {
   "cell_type": "code",
   "execution_count": 173,
   "metadata": {},
   "outputs": [
    {
     "data": {
      "text/plain": [
       "[<matplotlib.lines.Line2D at 0x11bd7efd0>]"
      ]
     },
     "execution_count": 173,
     "metadata": {},
     "output_type": "execute_result"
    },
    {
     "data": {
      "image/png": "[encoded data removed]",
      "text/plain": [
       "<Figure size 432x288 with 1 Axes>"
      ]
     },
     "metadata": {
      "needs_background": "light"
     },
     "output_type": "display_data"
    }
   ],
   "source": [
    "L_d_values=(4.0E-7*np.pi*.01*N_d_a**2*c_d)/1.0E-6\n",
    "\n",
    "plt.semilogx(nu,L_d)"
   ]
  },
  {
   "cell_type": "code",
   "execution_count": 174,
   "metadata": {},
   "outputs": [
    {
     "data": {
      "text/plain": [
       "array([0.01752754, 0.31983343, 0.45162768, 0.5525677 , 0.63748362,\n",
       "       0.71213191, 0.77946902, 0.84125326, 0.89863147, 0.95240106,\n",
       "       1.00314314, 1.05129684, 1.09720361, 1.14113527, 1.18331237,\n",
       "       1.22391687, 1.26310095, 1.30099348, 1.33770469, 1.37332981,\n",
       "       1.40795174, 1.44164319, 1.4744684 , 1.50648439, 1.53774214,\n",
       "       1.56828737, 1.59816133, 1.62740137, 1.65604144, 1.68411251,\n",
       "       1.71164293, 1.73865874, 1.7651839 , 1.79124054, 1.81684915,\n",
       "       1.84202873, 1.86679696, 1.89117031, 1.91516416, 1.93879289,\n",
       "       1.96207   , 1.98500813, 2.0076192 , 2.02991439, 2.0519043 ,\n",
       "       2.07359889, 2.0950076 , 2.11613938, 2.1370027 , 2.15760558,\n",
       "       2.17795569, 2.19806027, 2.21792625, 2.23756022, 2.25696847,\n",
       "       2.27615701, 2.29513157, 2.31389765, 2.33246049, 2.35082513,\n",
       "       2.3689964 , 2.38697893, 2.40477715, 2.42239535, 2.43983762,\n",
       "       2.45710792, 2.47421004, 2.49114765, 2.50792427, 2.52454331,\n",
       "       2.54100805, 2.55732166, 2.5734872 , 2.58950762, 2.60538578,\n",
       "       2.62112445, 2.63672631, 2.65219394, 2.66752985, 2.68273648,\n",
       "       2.69781617, 2.71277121, 2.72760383, 2.74231617, 2.75691031,\n",
       "       2.77138829, 2.78575208, 2.80000359, 2.81414468, 2.82817716,\n",
       "       2.8421028 , 2.85592331, 2.86964036, 2.88325557, 2.89677052,\n",
       "       2.91018676, 2.92350578, 2.93672906, 2.94985802, 2.96289406])"
      ]
     },
     "execution_count": 174,
     "metadata": {},
     "output_type": "execute_result"
    }
   ],
   "source": [
    "L_d"
   ]
  },
  {
   "cell_type": "code",
   "execution_count": 186,
   "metadata": {},
   "outputs": [
    {
     "data": {
      "text/plain": [
       "array([7.44237887e-13, 4.15011494e-14, 2.95951506e-14, 2.43116582e-14,\n",
       "       2.11595359e-14, 1.90072317e-14, 1.74177549e-14, 1.61819265e-14,\n",
       "       1.51853906e-14, 1.43596589e-14, 1.36608799e-14, 1.30595022e-14,\n",
       "       1.25347882e-14, 1.20716987e-14, 1.16590257e-14, 1.12882226e-14,\n",
       "       1.09526429e-14, 1.06470296e-14, 1.03671626e-14, 1.01096097e-14,\n",
       "       9.87154717e-15, 9.65062755e-15, 9.44488118e-15, 9.25264146e-15,\n",
       "       9.07248736e-15, 8.90319882e-15, 8.74372159e-15, 8.59313936e-15,\n",
       "       8.45065134e-15, 8.31555425e-15, 8.18722752e-15, 8.06512120e-15,\n",
       "       7.94874593e-15, 7.83766467e-15, 7.73148566e-15, 7.62985661e-15,\n",
       "       7.53245969e-15, 7.43900733e-15, 7.34923863e-15, 7.26291623e-15,\n",
       "       7.17982367e-15, 7.09976306e-15, 7.02255311e-15, 6.94802736e-15,\n",
       "       6.87603265e-15, 6.80642781e-15, 6.73908246e-15, 6.67387596e-15,\n",
       "       6.61069653e-15, 6.54944040e-15, 6.49001110e-15, 6.43231879e-15,\n",
       "       6.37627974e-15, 6.32181574e-15, 6.26885368e-15, 6.21732512e-15,\n",
       "       6.16716592e-15, 6.11831589e-15, 6.07071848e-15, 6.02432050e-15,\n",
       "       5.97907190e-15, 5.93492548e-15, 5.89183674e-15, 5.84976364e-15,\n",
       "       5.80866645e-15, 5.76850760e-15, 5.72925150e-15, 5.69086444e-15,\n",
       "       5.65331443e-15, 5.61657113e-15, 5.58060570e-15, 5.54539075e-15,\n",
       "       5.51090020e-15, 5.47710924e-15, 5.44399423e-15, 5.41153263e-15,\n",
       "       5.37970295e-15, 5.34848467e-15, 5.31785821e-15, 5.28780484e-15,\n",
       "       5.25830666e-15, 5.22934654e-15, 5.20090810e-15, 5.17297561e-15,\n",
       "       5.14553405e-15, 5.11856899e-15, 5.09206658e-15, 5.06601355e-15,\n",
       "       5.04039715e-15, 5.01520513e-15, 4.99042571e-15, 4.96604759e-15,\n",
       "       4.94205986e-15, 4.91845206e-15, 4.89521410e-15, 4.87233626e-15,\n",
       "       4.84980919e-15, 4.82762386e-15, 4.80577158e-15, 4.78424395e-15])"
      ]
     },
     "execution_count": 186,
     "metadata": {},
     "output_type": "execute_result"
    }
   ],
   "source": [
    "g_s"
   ]
  },
  {
   "cell_type": "code",
   "execution_count": 206,
   "metadata": {},
   "outputs": [
    {
     "data": {
      "text/plain": [
       "array([1.36551319e-14, 1.41654643e-14, 1.43911754e-14, 1.45654576e-14,\n",
       "       1.47130583e-14, 1.48435794e-14, 1.49619503e-14, 1.50711013e-14,\n",
       "       1.51729430e-14, 1.52688033e-14, 1.53596496e-14, 1.54462123e-14,\n",
       "       1.55290595e-14, 1.56086430e-14, 1.56853293e-14, 1.57594207e-14,\n",
       "       1.58311698e-14, 1.59007905e-14, 1.59684657e-14, 1.60343533e-14,\n",
       "       1.60985906e-14, 1.61612982e-14, 1.62225825e-14, 1.62825377e-14,\n",
       "       1.63412483e-14, 1.63987900e-14, 1.64552308e-14, 1.65106325e-14,\n",
       "       1.65650511e-14, 1.66185379e-14, 1.66711396e-14, 1.67228992e-14,\n",
       "       1.67738560e-14, 1.68240468e-14, 1.68735051e-14, 1.69222622e-14,\n",
       "       1.69703474e-14, 1.70177876e-14, 1.70646082e-14, 1.71108328e-14,\n",
       "       1.71564836e-14, 1.72015813e-14, 1.72461455e-14, 1.72901946e-14,\n",
       "       1.73337459e-14, 1.73768159e-14, 1.74194198e-14, 1.74615725e-14,\n",
       "       1.75032878e-14, 1.75445788e-14, 1.75854580e-14, 1.76259373e-14,\n",
       "       1.76660281e-14, 1.77057410e-14, 1.77450864e-14, 1.77840742e-14,\n",
       "       1.78227135e-14, 1.78610135e-14, 1.78989826e-14, 1.79366291e-14,\n",
       "       1.79739608e-14, 1.80109853e-14, 1.80477098e-14, 1.80841413e-14,\n",
       "       1.81202864e-14, 1.81561516e-14, 1.81917431e-14, 1.82270667e-14,\n",
       "       1.82621282e-14, 1.82969332e-14, 1.83314870e-14, 1.83657947e-14,\n",
       "       1.83998613e-14, 1.84336915e-14, 1.84672900e-14, 1.85006614e-14,\n",
       "       1.85338098e-14, 1.85667396e-14, 1.85994548e-14, 1.86319592e-14,\n",
       "       1.86642568e-14, 1.86963512e-14, 1.87282459e-14, 1.87599446e-14,\n",
       "       1.87914505e-14, 1.88227669e-14, 1.88538969e-14, 1.88848438e-14,\n",
       "       1.89156105e-14, 1.89461998e-14, 1.89766147e-14, 1.90068580e-14,\n",
       "       1.90369322e-14, 1.90668400e-14, 1.90965840e-14, 1.91261666e-14,\n",
       "       1.91555902e-14, 1.91848573e-14, 1.92139701e-14, 1.92429309e-14])"
      ]
     },
     "execution_count": 206,
     "metadata": {},
     "output_type": "execute_result"
    }
   ],
   "source": [
    "mag_lim"
   ]
  },
  {
   "cell_type": "code",
   "execution_count": 213,
   "metadata": {},
   "outputs": [],
   "source": [
    "def B_d(Q,N_d,N_l,L,r_d,g_num,E_o,rho,r_e,d,l):\n",
    "    return 2.08E-20*(Q/1.0E4)*N_d*N_l*(1/L)*(1/r_d)*(g_num/1.0E-12)*(E_o/10)*np.sqrt(rho)*r_e**2*d*np.log(1+l/r_e)"
   ]
  },
  {
   "cell_type": "code",
   "execution_count": 215,
   "metadata": {},
   "outputs": [
    {
     "data": {
      "text/plain": [
       "array([3.00644525, 3.11760954, 3.16607308, 3.20319087, 3.23441625,\n",
       "       3.26186601, 3.28662729, 3.30934667, 3.33044586, 3.35021807,\n",
       "       3.36887701, 3.38658415, 3.40346505, 3.41961965, 3.43512906,\n",
       "       3.4500602 , 3.46446902, 3.4784029 , 3.4919024 , 3.50500251,\n",
       "       3.51773372, 3.53012279, 3.54219331, 3.55396627, 3.56546041,\n",
       "       3.57669254, 3.58767783, 3.59843001, 3.60896157, 3.6192839 ,\n",
       "       3.62940742, 3.6393417 , 3.64909557, 3.65867715, 3.66809397,\n",
       "       3.67735304, 3.68646085, 3.69542344, 3.70424649, 3.71293528,\n",
       "       3.72149476, 3.7299296 , 3.73824417, 3.74644259, 3.75452874,\n",
       "       3.7625063 , 3.77037874, 3.77814935, 3.78582123, 3.79339735,\n",
       "       3.80088051, 3.80827339, 3.81557853, 3.82279836, 3.82993519,\n",
       "       3.83699122, 3.84396857, 3.85086925, 3.8576952 , 3.86444827,\n",
       "       3.87113024, 3.87774279, 3.88428758, 3.89076616, 3.89718006,\n",
       "       3.90353071, 3.90981952, 3.91604784, 3.92221696, 3.92832813,\n",
       "       3.93438257, 3.94038143, 3.94632584, 3.95221689, 3.95805563,\n",
       "       3.96384307, 3.9695802 , 3.97526798, 3.98090732, 3.98649912,\n",
       "       3.99204424, 3.99754353, 4.00299779, 4.00840783, 4.01377441,\n",
       "       4.01909827, 4.02438014, 4.02962072, 4.0348207 , 4.03998074,\n",
       "       4.0451015 , 4.05018359, 4.05522764, 4.06023424, 4.06520397,\n",
       "       4.07013741, 4.0750351 , 4.07989758, 4.08472538, 4.089519  ])"
      ]
     },
     "execution_count": 215,
     "metadata": {},
     "output_type": "execute_result"
    }
   ],
   "source": [
    "L"
   ]
  },
  {
   "cell_type": "code",
   "execution_count": 216,
   "metadata": {},
   "outputs": [
    {
     "data": {
      "text/plain": [
       "array([3.39163276e-16, 7.94133339e-17, 6.68347888e-17, 6.04266927e-17,\n",
       "       5.62614883e-17, 5.32337108e-17, 5.08846376e-17, 4.89824277e-17,\n",
       "       4.73946357e-17, 4.60389444e-17, 4.48609293e-17, 4.38228614e-17,\n",
       "       4.28975853e-17, 4.20649508e-17, 4.13096235e-17, 4.06196822e-17,\n",
       "       3.99856893e-17, 3.94000550e-17, 3.88565909e-17, 3.83501901e-17,\n",
       "       3.78765923e-17, 3.74322096e-17, 3.70139940e-17, 3.66193358e-17,\n",
       "       3.62459849e-17, 3.58919884e-17, 3.55556416e-17, 3.52354479e-17,\n",
       "       3.49300874e-17, 3.46383898e-17, 3.43593137e-17, 3.40919283e-17,\n",
       "       3.38353985e-17, 3.35889726e-17, 3.33519717e-17, 3.31237807e-17,\n",
       "       3.29038405e-17, 3.26916421e-17, 3.24867201e-17, 3.22886487e-17,\n",
       "       3.20970369e-17, 3.19115249e-17, 3.17317814e-17, 3.15575001e-17,\n",
       "       3.13883978e-17, 3.12242116e-17, 3.10646979e-17, 3.09096296e-17,\n",
       "       3.07587954e-17, 3.06119982e-17, 3.04690536e-17, 3.03297893e-17,\n",
       "       3.01940438e-17, 3.00616655e-17, 2.99325122e-17, 2.98064499e-17,\n",
       "       2.96833527e-17, 2.95631019e-17, 2.94455855e-17, 2.93306975e-17,\n",
       "       2.92183381e-17, 2.91084126e-17, 2.90008313e-17, 2.88955093e-17,\n",
       "       2.87923660e-17, 2.86913247e-17, 2.85923129e-17, 2.84952612e-17,\n",
       "       2.84001038e-17, 2.83067780e-17, 2.82152241e-17, 2.81253849e-17,\n",
       "       2.80372061e-17, 2.79506357e-17, 2.78656239e-17, 2.77821233e-17,\n",
       "       2.77000885e-17, 2.76194758e-17, 2.75402436e-17, 2.74623520e-17,\n",
       "       2.73857625e-17, 2.73104384e-17, 2.72363445e-17, 2.71634467e-17,\n",
       "       2.70917126e-17, 2.70211106e-17, 2.69516109e-17, 2.68831842e-17,\n",
       "       2.68158027e-17, 2.67494396e-17, 2.66840688e-17, 2.66196654e-17,\n",
       "       2.65562053e-17, 2.64936653e-17, 2.64320229e-17, 2.63712565e-17,\n",
       "       2.63113452e-17, 2.62522687e-17, 2.61940075e-17, 2.61365427e-17])"
      ]
     },
     "execution_count": 216,
     "metadata": {},
     "output_type": "execute_result"
    }
   ],
   "source": [
    "B_d(Q,N_d_a,N_l,L,r_d,g_s,E_o,rho,r_e,d,l)"
   ]
  },
  {
   "cell_type": "code",
   "execution_count": null,
   "metadata": {},
   "outputs": [],
   "source": []
  }
 ],
 "metadata": {
  "kernelspec": {
   "display_name": "Python 3",
   "language": "python",
   "name": "python3"
  },
  "language_info": {
   "codemirror_mode": {
    "name": "ipython",
    "version": 3
   },
   "file_extension": ".py",
   "mimetype": "text/x-python",
   "name": "python",
   "nbconvert_exporter": "python",
   "pygments_lexer": "ipython3",
   "version": "3.8.3"
  }
 },
 "nbformat": 4,
 "nbformat_minor": 4
}
